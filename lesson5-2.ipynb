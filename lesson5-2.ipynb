{
 "cells": [
  {
   "cell_type": "markdown",
   "metadata": {
    "collapsed": true,
    "pycharm": {
     "name": "#%% md\n"
    }
   },
   "source": [
    "Для решения задачи использовал свой практический кейс. Мне необходимо было для аналитических целей группировать заказчиков фирмы (более 5000 шт) по их отраслям. По заказчикам имелся только ИНН. Был использован сервис dadata, чей API позволяет по ИНН получать самую разнообразную информацию о юрлице (адрес, оквэд, руководители и т п) в удобной для обработки больших данных форме. Так, нижеследующий код (использован ИНН Яндекса):"
   ]
  },
  {
   "cell_type": "code",
   "execution_count": 1,
   "outputs": [],
   "source": [
    "#!pip install dadata\n",
    "#from dadata import Dadata\n",
    "#token = \"....\"\n",
    "#dadata = Dadata(token)\n",
    "#result = dadata.find_by_id(\"party\", \"7736207543\")[0]['data']['okved']\n",
    "#result"
   ],
   "metadata": {
    "collapsed": false,
    "pycharm": {
     "name": "#%%\n"
    }
   }
  },
  {
   "cell_type": "markdown",
   "source": [
    "даст результат от сервера: 62.01. С помощью несложной подстановки из справочника, выполняемой на основе того же сервиса dadata, получим отрасль:\n",
    "\"разработка компьютерного программного обеспечения\". Сервис также позволяет аналогичным образом выполнять геокодирование, обратное геокодирование,\n",
    "проверку валидности e-mail и т. п."
   ],
   "metadata": {
    "collapsed": false,
    "pycharm": {
     "name": "#%% md\n"
    }
   }
  }
 ],
 "metadata": {
  "kernelspec": {
   "display_name": "Python 3",
   "language": "python",
   "name": "python3"
  },
  "language_info": {
   "codemirror_mode": {
    "name": "ipython",
    "version": 2
   },
   "file_extension": ".py",
   "mimetype": "text/x-python",
   "name": "python",
   "nbconvert_exporter": "python",
   "pygments_lexer": "ipython2",
   "version": "2.7.6"
  }
 },
 "nbformat": 4,
 "nbformat_minor": 0
}