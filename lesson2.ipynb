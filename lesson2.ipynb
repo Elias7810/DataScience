{
 "nbformat": 4,
 "nbformat_minor": 0,
 "metadata": {
  "colab": {
   "name": "lesson2.ipynb",
   "provenance": [],
   "collapsed_sections": [],
   "authorship_tag": "ABX9TyPqnZGXerYcnPy4iTuYTvz8"
  },
  "kernelspec": {
   "name": "python3",
   "display_name": "Python 3"
  },
  "language_info": {
   "name": "python"
  }
 },
 "cells": [
  {
   "cell_type": "code",
   "execution_count": 9,
   "metadata": {
    "id": "gmT04bBeDMLB",
    "executionInfo": {
     "status": "ok",
     "timestamp": 1652949624109,
     "user_tz": -180,
     "elapsed": 4,
     "user": {
      "displayName": "Илья Орлов",
      "userId": "10517955208200466281"
     }
    }
   },
   "outputs": [],
   "source": [
    "import requests\n",
    "from bs4 import BeautifulSoup\n",
    "import html5lib\n",
    "from pprint import pprint\n",
    "import pandas as pd\n",
    "import numpy as np\n",
    "import re"
   ]
  },
  {
   "cell_type": "code",
   "source": [
    "headers = {'user-Agent': 'Mozilla/5.0 (iPhone; CPU iPhone OS 9_1 like Mac OS X) AppleWebKit/601.1.46 (KHTML, like Gecko) Version/9.0 Mobile/13B137 Safari/601.1'}\n",
    "url = 'https://spb.hh.ru/search/vacancy' #У меня браузер открывает только так, с spb\n"
   ],
   "metadata": {
    "id": "EliH-BN96Ei1",
    "executionInfo": {
     "status": "ok",
     "timestamp": 1652947726393,
     "user_tz": -180,
     "elapsed": 446,
     "user": {
      "displayName": "Илья Орлов",
      "userId": "10517955208200466281"
     }
    }
   },
   "execution_count": 2,
   "outputs": []
  },
  {
   "cell_type": "code",
   "source": [
    "def find_vacations(vac_name):\n",
    "    ### Понимаю, что код с двумя вложенными циклами трудно назвать оптимальным, но на что-то лучшее, к сожалению, не хватило времени. Очень большие выдачи считает\n",
    "        ### довольно долго (5-7 мин)\n",
    "    ### Максимальное число ответов в выдаче, независимо от их реального числа, - не более 2000. Видимо, опять сайт режет?\n",
    "    ### Добавил в выдачу еще и работодателя, хотя этого не было в задании.\n",
    "    params = {'text' : vac_name}\n",
    "    response = requests.get(url, headers=headers, params=params)\n",
    "    soup = BeautifulSoup(response.text, 'html.parser')\n",
    "    c = soup.find('h1', {'data-qa': 'bloko-header-3'})\n",
    "    x = re.findall('[0-9]+', c.get_text())\n",
    "    number = int(''.join(map(str, x)))\n",
    "    number = int(number/20) #Нашел на странице строчку, где указано общее число запросов в выдаче, вынул оттуда это число, разделил на 20 (это значение числа вакансий #на странице установил принудительно ниже) и так нашел общее число страниц в выдаче\n",
    "\n",
    "    lst = []\n",
    "    page  = 0\n",
    "    while page <= number:\n",
    "        params = {'text' : vac_name, 'page' : page, 'items_on_page' : 20}\n",
    "        response = requests.get(url, headers=headers, params=params)\n",
    "        soup = BeautifulSoup(response.text, 'html.parser')\n",
    "        vacations = soup.find_all('div', {'class': 'vacancy-serp-item'})\n",
    "        for vac in vacations:\n",
    "            temp = {}\n",
    "            a=vac.find_all('span', {'class': 'g-user-content'})\n",
    "            for elt in a:\n",
    "                temp['Должность'] = elt.text\n",
    "            b=vac.find_all('span', {'data-qa': 'vacancy-serp__vacancy-compensation'})\n",
    "            for elt in b:\n",
    "                temp['Зарплата'] = elt.text.replace('\\u202f','')\n",
    "            c=vac.find_all('a', {'data-qa': 'vacancy-serp__vacancy-employer'}) \n",
    "            for elt in c:\n",
    "                temp['Работодатель'] = elt.text\n",
    "            d=vac.find_all('a', {'data-qa': 'vacancy-serp__vacancy-title'}, href=True) \n",
    "            for elt in d:\n",
    "                temp['Ссылка на вакансию'] = elt['href']  \n",
    "            lst.append(temp)\n",
    "        page += 1\n",
    "    x = pd.DataFrame(lst)\n",
    "\n",
    "    x['Валюта'] = x['Зарплата'].replace('[0-9–дот]','',regex=True)\n",
    "    x['Мин.зарплата'] = np.select([x['Зарплата'].str.contains('от',na=False), x['Зарплата'].str.contains('до',na=False), x['Зарплата'].str.contains('–',na=False)],\n",
    "                                [x['Зарплата'].replace('[^\\d]','',regex=True),0, x['Зарплата'].replace('–.*','',regex=True)])\n",
    "    \n",
    "    x['Макс.зарплата'] = np.select([x['Зарплата'].str.contains('от',na=False), x['Зарплата'].str.contains('до',na=False), x['Зарплата'].str.contains('–',na=False)],\n",
    "                                [0, x['Зарплата'].replace('[^\\d]','',regex=True), x['Зарплата'].replace('.*–','',regex=True).replace('[^\\d]','',regex=True)])\n",
    "    x.fillna('не указана', inplace=True)\n",
    "    x.drop('Зарплата',axis=1,inplace=True)\n",
    "    x = x.reindex(columns=['Должность', 'Работодатель', 'Мин.зарплата', 'Макс.зарплата', 'Валюта', 'Ссылка на вакансию'])\n",
    "    x[['Мин.зарплата', 'Макс.зарплата']] = x[['Мин.зарплата', 'Макс.зарплата']].astype('int')\n",
    "    x.index +=1\n",
    "\n",
    "    display(x)"
   ],
   "metadata": {
    "id": "khL89HF07x9V",
    "executionInfo": {
     "status": "ok",
     "timestamp": 1652952278695,
     "user_tz": -180,
     "elapsed": 598,
     "user": {
      "displayName": "Илья Орлов",
      "userId": "10517955208200466281"
     }
    }
   },
   "execution_count": 11,
   "outputs": []
  },
  {
   "cell_type": "code",
   "source": [
    "find_vacations('middle data scientist')"
   ],
   "metadata": {
    "colab": {
     "base_uri": "https://localhost:8080/",
     "height": 1000
    },
    "id": "EVAddAIcjccJ",
    "executionInfo": {
     "status": "ok",
     "timestamp": 1652952309900,
     "user_tz": -180,
     "elapsed": 11349,
     "user": {
      "displayName": "Илья Орлов",
      "userId": "10517955208200466281"
     }
    },
    "outputId": "cc82a025-3a8a-4c12-8938-1aed54f66580",
    "pycharm": {
     "name": "#%%\n"
    }
   },
   "execution_count": 12,
   "outputs": [
    {
     "data": {
      "text/plain": "                                            Должность  \\\n1    Data Scientist в области рекомендательных систем   \n2         Data scientist (Junior/Middle) в консалтинг   \n3                               Middle Data Scientist   \n4      Математик, Junior/Middle/Senior Data Scientist   \n5             Data Scientist (Marketplace Efficiency)   \n6                             Data Scientist (Middle)   \n7             Senior Data Scientist (computer vision)   \n8                   Senior Data Scientist (Antifraud)   \n9   Data scientist / Machine learning engineer (ко...   \n10                              Middle Data Scientist   \n11                                     Data Scientist   \n12                                     Data Scientist   \n13                       Data engineer (Middle/Senor)   \n14                     Data scientist (middle/senior)   \n15                                     Data Scientist   \n16                       Middle/Senior Data Scientist   \n17   Middle data scientist (Рекомендательные системы)   \n18  Middle/Senior разработчик систем обработки ест...   \n19   Data Scientist в области рекомендательных систем   \n20               Middle ML / Data Science разработчик   \n21  Разработчик моделей данных (Middle/Senior Data...   \n22                              Middle Data Scientist   \n23                 Middle Data Scientist/Data Analyst   \n24                              Middle Data Scientist   \n25                              Middle Data Scientist   \n26                              Middle Data Scientist   \n27                              Middle Data Scientist   \n28          Data Scientist (Computer Vision) / Middle   \n29                       Middle/Senior Data Scientist   \n30                       Junior/Middle Data Scientist   \n31                       Middle/Senior Data Scientist   \n32                                     Data Scientist   \n33                  Data Scientist (Machine Learning)   \n34                       Middle-Senior Data Scientist   \n35                            Data Scientist (Middle)   \n36                       Middle-Senior Data Scientist   \n37                     Data Scientist (Middle/Senior)   \n38                       Middle/Senior Data Scientist   \n39                             Аналитик данных (ДАиМ)   \n40          Data Scientist (Computer Vision) - Junior   \n41       Middle Инженер данных / Middle DE (удалённо)   \n42                          Python Developer (Middle)   \n43  Middle/Senior разработчик систем компьютерного...   \n44                Менеджер продукта (Тинькофф Бизнес)   \n45             Middle/Senior ETL разработчик (Phyton)   \n46                       Senior/Middle Java Developer   \n\n                                         Работодатель  Мин.зарплата  \\\n1                                            Сбер. IT             0   \n2                       ООО БСТ Менеджмент-Консалтинг             0   \n3                                          ООО Телега        200000   \n4   Представительство ООО «Квалитет» (Российская Ф...             0   \n5                                            inDriver             0   \n6                                билайн: ИТ и Digital             0   \n7                                            inDriver             0   \n8                                            inDriver             0   \n9                                                  VK             0   \n10                                              Click             0   \n11                БИОКАД, биотехнологическая компания             0   \n12                                АО Банк ЦентрКредит             0   \n13                               билайн: ИТ и Digital             0   \n14                                     СберМегаМаркет             0   \n15                                          Монополия             0   \n16                   Самокат (ООО Умное пространство)             0   \n17            Компания «СПОРТМАСТЕР», Sportmaster Lab             0   \n18                              Университет Иннополис             0   \n19                                           Сбер. IT             0   \n20            Центр хранения и анализа больших данных             0   \n21                                         РобоФинанс             0   \n22  Schlumberger Telecommunications and Informatio...             0   \n23                                       ООО START.RU             0   \n24                                             Контур             0   \n25                                             Контур             0   \n26                                             Контур             0   \n27                                             Контур             0   \n28                                  DNS Головной офис        100000   \n29                                        WILDBERRIES             0   \n30      СтарЛайн, Научно-производственное объединение             0   \n31                                         JuicyScore        200000   \n32                                        Beeline, ТМ             0   \n33                                           Andersen             0   \n34                                        АО Гринатом             0   \n35                            Лаборатория Касперского             0   \n36                                        АО Гринатом             0   \n37                                         АО РТ Лабс             0   \n38                                  ООО ИК \"Сибинтек\"             0   \n39                                 ЗАО Банк Компаньон             0   \n40  Федеральное автономное учреждение Государствен...             0   \n41                               билайн: ИТ и Digital             0   \n42                                 Сбер. Data Science             0   \n43                              Университет Иннополис             0   \n44                                           Тинькофф             0   \n45                                     ООО АЙТИ.СПЕЙС             0   \n46                                       ООО Виго Лаб        220000   \n\n    Макс.зарплата      Валюта  \\\n1               0  не указана   \n2               0  не указана   \n3          250000        руб.   \n4               0  не указана   \n5               0  не указана   \n6               0  не указана   \n7               0  не указана   \n8               0  не указана   \n9               0  не указана   \n10         260000        руб.   \n11              0  не указана   \n12              0  не указана   \n13              0  не указана   \n14              0  не указана   \n15              0  не указана   \n16              0  не указана   \n17              0  не указана   \n18              0  не указана   \n19              0  не указана   \n20         170000        руб.   \n21              0  не указана   \n22              0  не указана   \n23              0  не указана   \n24              0  не указана   \n25              0  не указана   \n26              0  не указана   \n27              0  не указана   \n28              0        руб.   \n29              0  не указана   \n30              0  не указана   \n31              0        руб.   \n32              0  не указана   \n33           3800         USD   \n34              0  не указана   \n35              0  не указана   \n36              0  не указана   \n37              0  не указана   \n38              0  не указана   \n39              0  не указана   \n40              0  не указана   \n41              0  не указана   \n42              0  не указана   \n43              0  не указана   \n44              0  не указана   \n45         350000        руб.   \n46         400000        руб.   \n\n                                   Ссылка на вакансию  \n1   https://spb.hh.ru/vacancy/54682944?from=vacanc...  \n2   https://spb.hh.ru/vacancy/55074464?from=vacanc...  \n3   https://spb.hh.ru/vacancy/54955066?from=vacanc...  \n4   https://spb.hh.ru/vacancy/55529384?from=vacanc...  \n5   https://spb.hh.ru/vacancy/55485778?from=vacanc...  \n6   https://spb.hh.ru/vacancy/50630870?from=vacanc...  \n7   https://spb.hh.ru/vacancy/54717873?from=vacanc...  \n8   https://spb.hh.ru/vacancy/54789914?from=vacanc...  \n9   https://spb.hh.ru/vacancy/50605612?from=vacanc...  \n10  https://spb.hh.ru/vacancy/53014416?from=vacanc...  \n11  https://spb.hh.ru/vacancy/55379599?from=vacanc...  \n12  https://spb.hh.ru/vacancy/55327126?from=vacanc...  \n13  https://spb.hh.ru/vacancy/55216592?from=vacanc...  \n14  https://spb.hh.ru/vacancy/51812421?from=vacanc...  \n15  https://spb.hh.ru/vacancy/55319016?from=vacanc...  \n16  https://spb.hh.ru/vacancy/53885115?from=vacanc...  \n17  https://spb.hh.ru/vacancy/54692864?from=vacanc...  \n18  https://spb.hh.ru/vacancy/54812379?from=vacanc...  \n19  https://spb.hh.ru/vacancy/55185186?from=vacanc...  \n20  https://spb.hh.ru/vacancy/55277835?from=vacanc...  \n21  https://spb.hh.ru/vacancy/52248238?from=vacanc...  \n22  https://spb.hh.ru/vacancy/54689328?from=vacanc...  \n23  https://spb.hh.ru/vacancy/52305783?from=vacanc...  \n24  https://spb.hh.ru/vacancy/55204391?from=vacanc...  \n25  https://spb.hh.ru/vacancy/55204393?from=vacanc...  \n26  https://spb.hh.ru/vacancy/55204392?from=vacanc...  \n27  https://spb.hh.ru/vacancy/55204390?from=vacanc...  \n28  https://spb.hh.ru/vacancy/55236081?from=vacanc...  \n29  https://spb.hh.ru/vacancy/54947623?from=vacanc...  \n30  https://spb.hh.ru/vacancy/55120401?from=vacanc...  \n31  https://spb.hh.ru/vacancy/55051085?from=vacanc...  \n32  https://spb.hh.ru/vacancy/55022964?from=vacanc...  \n33  https://spb.hh.ru/vacancy/55053176?from=vacanc...  \n34  https://spb.hh.ru/vacancy/55035088?from=vacanc...  \n35  https://spb.hh.ru/vacancy/54615940?from=vacanc...  \n36  https://spb.hh.ru/vacancy/55035087?from=vacanc...  \n37  https://spb.hh.ru/vacancy/54979940?from=vacanc...  \n38  https://spb.hh.ru/vacancy/53822467?from=vacanc...  \n39  https://spb.hh.ru/vacancy/55044151?from=vacanc...  \n40  https://spb.hh.ru/vacancy/55390769?from=vacanc...  \n41  https://spb.hh.ru/vacancy/54250967?from=vacanc...  \n42  https://spb.hh.ru/vacancy/55517531?from=vacanc...  \n43  https://spb.hh.ru/vacancy/55388072?from=vacanc...  \n44  https://spb.hh.ru/vacancy/55379546?from=vacanc...  \n45  https://spb.hh.ru/vacancy/55128339?from=vacanc...  \n46  https://spb.hh.ru/vacancy/55142891?from=vacanc...  ",
      "text/html": "<div>\n<style scoped>\n    .dataframe tbody tr th:only-of-type {\n        vertical-align: middle;\n    }\n\n    .dataframe tbody tr th {\n        vertical-align: top;\n    }\n\n    .dataframe thead th {\n        text-align: right;\n    }\n</style>\n<table border=\"1\" class=\"dataframe\">\n  <thead>\n    <tr style=\"text-align: right;\">\n      <th></th>\n      <th>Должность</th>\n      <th>Работодатель</th>\n      <th>Мин.зарплата</th>\n      <th>Макс.зарплата</th>\n      <th>Валюта</th>\n      <th>Ссылка на вакансию</th>\n    </tr>\n  </thead>\n  <tbody>\n    <tr>\n      <th>1</th>\n      <td>Data Scientist в области рекомендательных систем</td>\n      <td>Сбер. IT</td>\n      <td>0</td>\n      <td>0</td>\n      <td>не указана</td>\n      <td>https://spb.hh.ru/vacancy/54682944?from=vacanc...</td>\n    </tr>\n    <tr>\n      <th>2</th>\n      <td>Data scientist (Junior/Middle) в консалтинг</td>\n      <td>ООО БСТ Менеджмент-Консалтинг</td>\n      <td>0</td>\n      <td>0</td>\n      <td>не указана</td>\n      <td>https://spb.hh.ru/vacancy/55074464?from=vacanc...</td>\n    </tr>\n    <tr>\n      <th>3</th>\n      <td>Middle Data Scientist</td>\n      <td>ООО Телега</td>\n      <td>200000</td>\n      <td>250000</td>\n      <td>руб.</td>\n      <td>https://spb.hh.ru/vacancy/54955066?from=vacanc...</td>\n    </tr>\n    <tr>\n      <th>4</th>\n      <td>Математик, Junior/Middle/Senior Data Scientist</td>\n      <td>Представительство ООО «Квалитет» (Российская Ф...</td>\n      <td>0</td>\n      <td>0</td>\n      <td>не указана</td>\n      <td>https://spb.hh.ru/vacancy/55529384?from=vacanc...</td>\n    </tr>\n    <tr>\n      <th>5</th>\n      <td>Data Scientist (Marketplace Efficiency)</td>\n      <td>inDriver</td>\n      <td>0</td>\n      <td>0</td>\n      <td>не указана</td>\n      <td>https://spb.hh.ru/vacancy/55485778?from=vacanc...</td>\n    </tr>\n    <tr>\n      <th>6</th>\n      <td>Data Scientist (Middle)</td>\n      <td>билайн: ИТ и Digital</td>\n      <td>0</td>\n      <td>0</td>\n      <td>не указана</td>\n      <td>https://spb.hh.ru/vacancy/50630870?from=vacanc...</td>\n    </tr>\n    <tr>\n      <th>7</th>\n      <td>Senior Data Scientist (computer vision)</td>\n      <td>inDriver</td>\n      <td>0</td>\n      <td>0</td>\n      <td>не указана</td>\n      <td>https://spb.hh.ru/vacancy/54717873?from=vacanc...</td>\n    </tr>\n    <tr>\n      <th>8</th>\n      <td>Senior Data Scientist (Antifraud)</td>\n      <td>inDriver</td>\n      <td>0</td>\n      <td>0</td>\n      <td>не указана</td>\n      <td>https://spb.hh.ru/vacancy/54789914?from=vacanc...</td>\n    </tr>\n    <tr>\n      <th>9</th>\n      <td>Data scientist / Machine learning engineer (ко...</td>\n      <td>VK</td>\n      <td>0</td>\n      <td>0</td>\n      <td>не указана</td>\n      <td>https://spb.hh.ru/vacancy/50605612?from=vacanc...</td>\n    </tr>\n    <tr>\n      <th>10</th>\n      <td>Middle Data Scientist</td>\n      <td>Click</td>\n      <td>0</td>\n      <td>260000</td>\n      <td>руб.</td>\n      <td>https://spb.hh.ru/vacancy/53014416?from=vacanc...</td>\n    </tr>\n    <tr>\n      <th>11</th>\n      <td>Data Scientist</td>\n      <td>БИОКАД, биотехнологическая компания</td>\n      <td>0</td>\n      <td>0</td>\n      <td>не указана</td>\n      <td>https://spb.hh.ru/vacancy/55379599?from=vacanc...</td>\n    </tr>\n    <tr>\n      <th>12</th>\n      <td>Data Scientist</td>\n      <td>АО Банк ЦентрКредит</td>\n      <td>0</td>\n      <td>0</td>\n      <td>не указана</td>\n      <td>https://spb.hh.ru/vacancy/55327126?from=vacanc...</td>\n    </tr>\n    <tr>\n      <th>13</th>\n      <td>Data engineer (Middle/Senor)</td>\n      <td>билайн: ИТ и Digital</td>\n      <td>0</td>\n      <td>0</td>\n      <td>не указана</td>\n      <td>https://spb.hh.ru/vacancy/55216592?from=vacanc...</td>\n    </tr>\n    <tr>\n      <th>14</th>\n      <td>Data scientist (middle/senior)</td>\n      <td>СберМегаМаркет</td>\n      <td>0</td>\n      <td>0</td>\n      <td>не указана</td>\n      <td>https://spb.hh.ru/vacancy/51812421?from=vacanc...</td>\n    </tr>\n    <tr>\n      <th>15</th>\n      <td>Data Scientist</td>\n      <td>Монополия</td>\n      <td>0</td>\n      <td>0</td>\n      <td>не указана</td>\n      <td>https://spb.hh.ru/vacancy/55319016?from=vacanc...</td>\n    </tr>\n    <tr>\n      <th>16</th>\n      <td>Middle/Senior Data Scientist</td>\n      <td>Самокат (ООО Умное пространство)</td>\n      <td>0</td>\n      <td>0</td>\n      <td>не указана</td>\n      <td>https://spb.hh.ru/vacancy/53885115?from=vacanc...</td>\n    </tr>\n    <tr>\n      <th>17</th>\n      <td>Middle data scientist (Рекомендательные системы)</td>\n      <td>Компания «СПОРТМАСТЕР», Sportmaster Lab</td>\n      <td>0</td>\n      <td>0</td>\n      <td>не указана</td>\n      <td>https://spb.hh.ru/vacancy/54692864?from=vacanc...</td>\n    </tr>\n    <tr>\n      <th>18</th>\n      <td>Middle/Senior разработчик систем обработки ест...</td>\n      <td>Университет Иннополис</td>\n      <td>0</td>\n      <td>0</td>\n      <td>не указана</td>\n      <td>https://spb.hh.ru/vacancy/54812379?from=vacanc...</td>\n    </tr>\n    <tr>\n      <th>19</th>\n      <td>Data Scientist в области рекомендательных систем</td>\n      <td>Сбер. IT</td>\n      <td>0</td>\n      <td>0</td>\n      <td>не указана</td>\n      <td>https://spb.hh.ru/vacancy/55185186?from=vacanc...</td>\n    </tr>\n    <tr>\n      <th>20</th>\n      <td>Middle ML / Data Science разработчик</td>\n      <td>Центр хранения и анализа больших данных</td>\n      <td>0</td>\n      <td>170000</td>\n      <td>руб.</td>\n      <td>https://spb.hh.ru/vacancy/55277835?from=vacanc...</td>\n    </tr>\n    <tr>\n      <th>21</th>\n      <td>Разработчик моделей данных (Middle/Senior Data...</td>\n      <td>РобоФинанс</td>\n      <td>0</td>\n      <td>0</td>\n      <td>не указана</td>\n      <td>https://spb.hh.ru/vacancy/52248238?from=vacanc...</td>\n    </tr>\n    <tr>\n      <th>22</th>\n      <td>Middle Data Scientist</td>\n      <td>Schlumberger Telecommunications and Informatio...</td>\n      <td>0</td>\n      <td>0</td>\n      <td>не указана</td>\n      <td>https://spb.hh.ru/vacancy/54689328?from=vacanc...</td>\n    </tr>\n    <tr>\n      <th>23</th>\n      <td>Middle Data Scientist/Data Analyst</td>\n      <td>ООО START.RU</td>\n      <td>0</td>\n      <td>0</td>\n      <td>не указана</td>\n      <td>https://spb.hh.ru/vacancy/52305783?from=vacanc...</td>\n    </tr>\n    <tr>\n      <th>24</th>\n      <td>Middle Data Scientist</td>\n      <td>Контур</td>\n      <td>0</td>\n      <td>0</td>\n      <td>не указана</td>\n      <td>https://spb.hh.ru/vacancy/55204391?from=vacanc...</td>\n    </tr>\n    <tr>\n      <th>25</th>\n      <td>Middle Data Scientist</td>\n      <td>Контур</td>\n      <td>0</td>\n      <td>0</td>\n      <td>не указана</td>\n      <td>https://spb.hh.ru/vacancy/55204393?from=vacanc...</td>\n    </tr>\n    <tr>\n      <th>26</th>\n      <td>Middle Data Scientist</td>\n      <td>Контур</td>\n      <td>0</td>\n      <td>0</td>\n      <td>не указана</td>\n      <td>https://spb.hh.ru/vacancy/55204392?from=vacanc...</td>\n    </tr>\n    <tr>\n      <th>27</th>\n      <td>Middle Data Scientist</td>\n      <td>Контур</td>\n      <td>0</td>\n      <td>0</td>\n      <td>не указана</td>\n      <td>https://spb.hh.ru/vacancy/55204390?from=vacanc...</td>\n    </tr>\n    <tr>\n      <th>28</th>\n      <td>Data Scientist (Computer Vision) / Middle</td>\n      <td>DNS Головной офис</td>\n      <td>100000</td>\n      <td>0</td>\n      <td>руб.</td>\n      <td>https://spb.hh.ru/vacancy/55236081?from=vacanc...</td>\n    </tr>\n    <tr>\n      <th>29</th>\n      <td>Middle/Senior Data Scientist</td>\n      <td>WILDBERRIES</td>\n      <td>0</td>\n      <td>0</td>\n      <td>не указана</td>\n      <td>https://spb.hh.ru/vacancy/54947623?from=vacanc...</td>\n    </tr>\n    <tr>\n      <th>30</th>\n      <td>Junior/Middle Data Scientist</td>\n      <td>СтарЛайн, Научно-производственное объединение</td>\n      <td>0</td>\n      <td>0</td>\n      <td>не указана</td>\n      <td>https://spb.hh.ru/vacancy/55120401?from=vacanc...</td>\n    </tr>\n    <tr>\n      <th>31</th>\n      <td>Middle/Senior Data Scientist</td>\n      <td>JuicyScore</td>\n      <td>200000</td>\n      <td>0</td>\n      <td>руб.</td>\n      <td>https://spb.hh.ru/vacancy/55051085?from=vacanc...</td>\n    </tr>\n    <tr>\n      <th>32</th>\n      <td>Data Scientist</td>\n      <td>Beeline, ТМ</td>\n      <td>0</td>\n      <td>0</td>\n      <td>не указана</td>\n      <td>https://spb.hh.ru/vacancy/55022964?from=vacanc...</td>\n    </tr>\n    <tr>\n      <th>33</th>\n      <td>Data Scientist (Machine Learning)</td>\n      <td>Andersen</td>\n      <td>0</td>\n      <td>3800</td>\n      <td>USD</td>\n      <td>https://spb.hh.ru/vacancy/55053176?from=vacanc...</td>\n    </tr>\n    <tr>\n      <th>34</th>\n      <td>Middle-Senior Data Scientist</td>\n      <td>АО Гринатом</td>\n      <td>0</td>\n      <td>0</td>\n      <td>не указана</td>\n      <td>https://spb.hh.ru/vacancy/55035088?from=vacanc...</td>\n    </tr>\n    <tr>\n      <th>35</th>\n      <td>Data Scientist (Middle)</td>\n      <td>Лаборатория Касперского</td>\n      <td>0</td>\n      <td>0</td>\n      <td>не указана</td>\n      <td>https://spb.hh.ru/vacancy/54615940?from=vacanc...</td>\n    </tr>\n    <tr>\n      <th>36</th>\n      <td>Middle-Senior Data Scientist</td>\n      <td>АО Гринатом</td>\n      <td>0</td>\n      <td>0</td>\n      <td>не указана</td>\n      <td>https://spb.hh.ru/vacancy/55035087?from=vacanc...</td>\n    </tr>\n    <tr>\n      <th>37</th>\n      <td>Data Scientist (Middle/Senior)</td>\n      <td>АО РТ Лабс</td>\n      <td>0</td>\n      <td>0</td>\n      <td>не указана</td>\n      <td>https://spb.hh.ru/vacancy/54979940?from=vacanc...</td>\n    </tr>\n    <tr>\n      <th>38</th>\n      <td>Middle/Senior Data Scientist</td>\n      <td>ООО ИК \"Сибинтек\"</td>\n      <td>0</td>\n      <td>0</td>\n      <td>не указана</td>\n      <td>https://spb.hh.ru/vacancy/53822467?from=vacanc...</td>\n    </tr>\n    <tr>\n      <th>39</th>\n      <td>Аналитик данных (ДАиМ)</td>\n      <td>ЗАО Банк Компаньон</td>\n      <td>0</td>\n      <td>0</td>\n      <td>не указана</td>\n      <td>https://spb.hh.ru/vacancy/55044151?from=vacanc...</td>\n    </tr>\n    <tr>\n      <th>40</th>\n      <td>Data Scientist (Computer Vision) - Junior</td>\n      <td>Федеральное автономное учреждение Государствен...</td>\n      <td>0</td>\n      <td>0</td>\n      <td>не указана</td>\n      <td>https://spb.hh.ru/vacancy/55390769?from=vacanc...</td>\n    </tr>\n    <tr>\n      <th>41</th>\n      <td>Middle Инженер данных / Middle DE (удалённо)</td>\n      <td>билайн: ИТ и Digital</td>\n      <td>0</td>\n      <td>0</td>\n      <td>не указана</td>\n      <td>https://spb.hh.ru/vacancy/54250967?from=vacanc...</td>\n    </tr>\n    <tr>\n      <th>42</th>\n      <td>Python Developer (Middle)</td>\n      <td>Сбер. Data Science</td>\n      <td>0</td>\n      <td>0</td>\n      <td>не указана</td>\n      <td>https://spb.hh.ru/vacancy/55517531?from=vacanc...</td>\n    </tr>\n    <tr>\n      <th>43</th>\n      <td>Middle/Senior разработчик систем компьютерного...</td>\n      <td>Университет Иннополис</td>\n      <td>0</td>\n      <td>0</td>\n      <td>не указана</td>\n      <td>https://spb.hh.ru/vacancy/55388072?from=vacanc...</td>\n    </tr>\n    <tr>\n      <th>44</th>\n      <td>Менеджер продукта (Тинькофф Бизнес)</td>\n      <td>Тинькофф</td>\n      <td>0</td>\n      <td>0</td>\n      <td>не указана</td>\n      <td>https://spb.hh.ru/vacancy/55379546?from=vacanc...</td>\n    </tr>\n    <tr>\n      <th>45</th>\n      <td>Middle/Senior ETL разработчик (Phyton)</td>\n      <td>ООО АЙТИ.СПЕЙС</td>\n      <td>0</td>\n      <td>350000</td>\n      <td>руб.</td>\n      <td>https://spb.hh.ru/vacancy/55128339?from=vacanc...</td>\n    </tr>\n    <tr>\n      <th>46</th>\n      <td>Senior/Middle Java Developer</td>\n      <td>ООО Виго Лаб</td>\n      <td>220000</td>\n      <td>400000</td>\n      <td>руб.</td>\n      <td>https://spb.hh.ru/vacancy/55142891?from=vacanc...</td>\n    </tr>\n  </tbody>\n</table>\n</div>"
     },
     "metadata": {},
     "output_type": "display_data"
    }
   ]
  }
 ]
}