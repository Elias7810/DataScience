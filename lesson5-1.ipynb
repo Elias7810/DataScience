{
 "nbformat": 4,
 "nbformat_minor": 0,
 "metadata": {
  "colab": {
   "name": "lesson1.ipynb",
   "provenance": [],
   "collapsed_sections": [],
   "authorship_tag": "ABX9TyNEt9iKMPSdFDZNG4268mEI"
  },
  "kernelspec": {
   "name": "python3",
   "display_name": "Python 3"
  },
  "language_info": {
   "name": "python"
  }
 },
 "cells": [
  {
   "cell_type": "code",
   "execution_count": 1,
   "metadata": {
    "id": "gmT04bBeDMLB",
    "executionInfo": {
     "status": "ok",
     "timestamp": 1652701293346,
     "user_tz": -180,
     "elapsed": 250,
     "user": {
      "displayName": "Илья Орлов",
      "userId": "10517955208200466281"
     }
    }
   },
   "outputs": [],
   "source": [
    "import requests\n",
    "import json"
   ]
  },
  {
   "cell_type": "code",
   "source": [
    "user = input('Введите имя пользователя\\n')"
   ],
   "metadata": {
    "colab": {
     "base_uri": "https://localhost:8080/"
    },
    "id": "fAQIhVoYi1Mc",
    "executionInfo": {
     "status": "ok",
     "timestamp": 1652701680739,
     "user_tz": -180,
     "elapsed": 6255,
     "user": {
      "displayName": "Илья Орлов",
      "userId": "10517955208200466281"
     }
    },
    "outputId": "719fd86b-d1ec-43d6-b949-acfd1b4278be"
   },
   "execution_count": 2,
   "outputs": []
  },
  {
   "cell_type": "code",
   "source": [
    "url = f'http://api.github.com/users/{user}/repos'\n",
    "repos = requests.get(url).json()\n",
    "try:\n",
    "    for el in repos:\n",
    "        print (el['name'])\n",
    "        with open('repos.json', 'w') as outfile:\n",
    "            json.dump(repos, outfile)\n",
    "    print ('JSON-файл с данными о репозиториях пользователя сохранен в текущей директории под именем repos.json')\n",
    "except:\n",
    "    print ('Имя пользователя некорректно!')\n"
   ],
   "metadata": {
    "colab": {
     "base_uri": "https://localhost:8080/"
    },
    "id": "Lr2aAWcfJUab",
    "executionInfo": {
     "status": "ok",
     "timestamp": 1652701682724,
     "user_tz": -180,
     "elapsed": 280,
     "user": {
      "displayName": "Илья Орлов",
      "userId": "10517955208200466281"
     }
    },
    "outputId": "8f42bc45-c72a-4c72-a475-4db50d94c497"
   },
   "execution_count": 3,
   "outputs": [
    {
     "name": "stdout",
     "output_type": "stream",
     "text": [
      "Имя пользователя некорректно!\n"
     ]
    }
   ]
  }
 ]
}